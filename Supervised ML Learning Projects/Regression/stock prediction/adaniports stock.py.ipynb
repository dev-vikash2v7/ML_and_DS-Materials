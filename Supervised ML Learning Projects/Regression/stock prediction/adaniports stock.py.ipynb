{
 "cells": [
  {
   "cell_type": "code",
   "execution_count": 101,
   "id": "essential-communist",
   "metadata": {},
   "outputs": [],
   "source": [
    "import pandas as pd , numpy as np , quandl"
   ]
  },
  {
   "cell_type": "markdown",
   "id": "trying-greenhouse",
   "metadata": {},
   "source": [
    "# 1-step = setupping and cleaning the data"
   ]
  },
  {
   "source": [
    "#stock = pd.read_csv('ADANIPORTS.csv' , index_col = 'Date' ,parse_dates = True)\n",
    "gdp = quandl.get('FRED/GDP'  ,returns = 'numpy' , rows = 5)\n",
    "gdp"
   ],
   "cell_type": "markdown",
   "metadata": {}
  },
  {
   "source": [
    "gdp = quandl.get('FRED/GDP'  ,rows = 5)"
   ],
   "cell_type": "markdown",
   "metadata": {}
  },
  {
   "source": [
    "#to change sampling freq:\n",
    "gdp = quandl.get('FRED/GDP'  ,collapse = 'monthly')\n",
    "gdp"
   ],
   "cell_type": "markdown",
   "metadata": {}
  },
  {
   "source": [
    "#for elementry calculation\n",
    "gdp = quandl.get('FRED/GDP'  , transformation = 'rdiff')\n",
    "gdp"
   ],
   "cell_type": "markdown",
   "metadata": {}
  },
  {
   "source": [
    "stock = quandl.get('NSE/OIL.1' )\n",
    "stock"
   ],
   "cell_type": "markdown",
   "metadata": {}
  },
  {
   "source": [
    "stock = quandl.get('EIA/PET_RWTC_D' , start_date = '2014-12-31' , end_date = '2021-12-31')\n",
    "stock.head()"
   ],
   "cell_type": "markdown",
   "metadata": {}
  },
  {
   "source": [
    "stock = quandl.get(['EIA/PET_RWTC_D' , 'NSE/OIL.1' ] ,start_date = '2014-12-31' , end_date = '2021-12-31')\n",
    "stock"
   ],
   "cell_type": "markdown",
   "metadata": {}
  },
  {
   "source": [
    "mydata = quandl.get_table('ZACKS/FC' , ticker = 'AAPL')\n",
    "mydata = quandl.get_table('ZACKS/FC' , peginate = True)\n",
    "mydata\n"
   ],
   "cell_type": "markdown",
   "metadata": {}
  },
  {
   "source": [
    "stock = quandl.get('WiKi/FB' , start_date = '2014-12-31' , end_date = '2021-12-31')\n",
    "stock.to_csv('wiki FB stock.csv')"
   ],
   "cell_type": "markdown",
   "metadata": {}
  },
  {
   "source": [
    "#stock = pd.read_csv('wiki FB stock.csv')\n",
    "stock = quandl.get('WiKi/AMZN' ,start_data = '2015-01-01' , end_date = '2021-12-31')\n",
    "stock.to_csv('data/WiKi Amozon.csv')"
   ],
   "cell_type": "markdown",
   "metadata": {}
  },
  {
   "cell_type": "code",
   "execution_count": 138,
   "metadata": {},
   "outputs": [
    {
     "output_type": "execute_result",
     "data": {
      "text/plain": [
       "         Date   Open     High    Low  Close      Volume  Ex-Dividend  \\\n",
       "0  2014-12-31  79.54  79.8000  77.86  78.02  20040439.0          0.0   \n",
       "1  2015-01-02  78.58  78.9300  77.70  78.45  18177475.0          0.0   \n",
       "2  2015-01-05  77.98  79.2455  76.86  77.19  26452191.0          0.0   \n",
       "\n",
       "   Split Ratio  Adj. Open  Adj. High  Adj. Low  Adj. Close  Adj. Volume  \n",
       "0          1.0      79.54    79.8000     77.86       78.02   20040439.0  \n",
       "1          1.0      78.58    78.9300     77.70       78.45   18177475.0  \n",
       "2          1.0      77.98    79.2455     76.86       77.19   26452191.0  "
      ],
      "text/html": "<div>\n<style scoped>\n    .dataframe tbody tr th:only-of-type {\n        vertical-align: middle;\n    }\n\n    .dataframe tbody tr th {\n        vertical-align: top;\n    }\n\n    .dataframe thead th {\n        text-align: right;\n    }\n</style>\n<table border=\"1\" class=\"dataframe\">\n  <thead>\n    <tr style=\"text-align: right;\">\n      <th></th>\n      <th>Date</th>\n      <th>Open</th>\n      <th>High</th>\n      <th>Low</th>\n      <th>Close</th>\n      <th>Volume</th>\n      <th>Ex-Dividend</th>\n      <th>Split Ratio</th>\n      <th>Adj. Open</th>\n      <th>Adj. High</th>\n      <th>Adj. Low</th>\n      <th>Adj. Close</th>\n      <th>Adj. Volume</th>\n    </tr>\n  </thead>\n  <tbody>\n    <tr>\n      <th>0</th>\n      <td>2014-12-31</td>\n      <td>79.54</td>\n      <td>79.8000</td>\n      <td>77.86</td>\n      <td>78.02</td>\n      <td>20040439.0</td>\n      <td>0.0</td>\n      <td>1.0</td>\n      <td>79.54</td>\n      <td>79.8000</td>\n      <td>77.86</td>\n      <td>78.02</td>\n      <td>20040439.0</td>\n    </tr>\n    <tr>\n      <th>1</th>\n      <td>2015-01-02</td>\n      <td>78.58</td>\n      <td>78.9300</td>\n      <td>77.70</td>\n      <td>78.45</td>\n      <td>18177475.0</td>\n      <td>0.0</td>\n      <td>1.0</td>\n      <td>78.58</td>\n      <td>78.9300</td>\n      <td>77.70</td>\n      <td>78.45</td>\n      <td>18177475.0</td>\n    </tr>\n    <tr>\n      <th>2</th>\n      <td>2015-01-05</td>\n      <td>77.98</td>\n      <td>79.2455</td>\n      <td>76.86</td>\n      <td>77.19</td>\n      <td>26452191.0</td>\n      <td>0.0</td>\n      <td>1.0</td>\n      <td>77.98</td>\n      <td>79.2455</td>\n      <td>76.86</td>\n      <td>77.19</td>\n      <td>26452191.0</td>\n    </tr>\n  </tbody>\n</table>\n</div>"
     },
     "metadata": {},
     "execution_count": 138
    }
   ],
   "source": [
    "#stock = pd.read_csv('data\\WiKi Amozon.csv')\n",
    "stock = pd.read_csv('data\\wiki FB stock.csv' )\n",
    "stock.head(3)"
   ]
  },
  {
   "cell_type": "code",
   "execution_count": 139,
   "metadata": {},
   "outputs": [
    {
     "output_type": "execute_result",
     "data": {
      "text/plain": [
       "'From : 2014-12-31 --> 2018-03-27'"
      ]
     },
     "metadata": {},
     "execution_count": 139
    }
   ],
   "source": [
    "try:\n",
    "    stock.index = stock['Date']\n",
    "    stock.drop('Date',axis = 1,inplace=True)\n",
    "except:\n",
    "    pass\n",
    "\n",
    "'From : ' + stock.index[0] + ' --> ' + stock.index[len(stock)-1]\n",
    "#renaming column \n",
    "#stock.rename(columns={'Volume' : 'Vol'})"
   ]
  },
  {
   "cell_type": "code",
   "execution_count": 104,
   "metadata": {},
   "outputs": [
    {
     "output_type": "execute_result",
     "data": {
      "text/plain": [
       "    Open  Adj. Open\n",
       "0  22.38   1.865000\n",
       "1  20.50   1.708333\n",
       "2  20.75   1.729167"
      ],
      "text/html": "<div>\n<style scoped>\n    .dataframe tbody tr th:only-of-type {\n        vertical-align: middle;\n    }\n\n    .dataframe tbody tr th {\n        vertical-align: top;\n    }\n\n    .dataframe thead th {\n        text-align: right;\n    }\n</style>\n<table border=\"1\" class=\"dataframe\">\n  <thead>\n    <tr style=\"text-align: right;\">\n      <th></th>\n      <th>Open</th>\n      <th>Adj. Open</th>\n    </tr>\n  </thead>\n  <tbody>\n    <tr>\n      <th>0</th>\n      <td>22.38</td>\n      <td>1.865000</td>\n    </tr>\n    <tr>\n      <th>1</th>\n      <td>20.50</td>\n      <td>1.708333</td>\n    </tr>\n    <tr>\n      <th>2</th>\n      <td>20.75</td>\n      <td>1.729167</td>\n    </tr>\n  </tbody>\n</table>\n</div>"
     },
     "metadata": {},
     "execution_count": 104
    }
   ],
   "source": [
    "# get the adjusted close price\n",
    "open = stock[['Open','Adj. Open']] \n",
    "open.head(3)"
   ]
  },
  {
   "cell_type": "code",
   "execution_count": 105,
   "metadata": {},
   "outputs": [
    {
     "output_type": "execute_result",
     "data": {
      "text/plain": [
       "   Adj. Close\n",
       "0    1.729167\n",
       "1    1.708333\n",
       "2    1.635833"
      ],
      "text/html": "<div>\n<style scoped>\n    .dataframe tbody tr th:only-of-type {\n        vertical-align: middle;\n    }\n\n    .dataframe tbody tr th {\n        vertical-align: top;\n    }\n\n    .dataframe thead th {\n        text-align: right;\n    }\n</style>\n<table border=\"1\" class=\"dataframe\">\n  <thead>\n    <tr style=\"text-align: right;\">\n      <th></th>\n      <th>Adj. Close</th>\n    </tr>\n  </thead>\n  <tbody>\n    <tr>\n      <th>0</th>\n      <td>1.729167</td>\n    </tr>\n    <tr>\n      <th>1</th>\n      <td>1.708333</td>\n    </tr>\n    <tr>\n      <th>2</th>\n      <td>1.635833</td>\n    </tr>\n  </tbody>\n</table>\n</div>"
     },
     "metadata": {},
     "execution_count": 105
    }
   ],
   "source": [
    "close = stock[['Adj. Close']]\n",
    "close.head(3)"
   ]
  },
  {
   "source": [
    "stock.info()"
   ],
   "cell_type": "markdown",
   "metadata": {}
  },
  {
   "cell_type": "code",
   "execution_count": 106,
   "metadata": {},
   "outputs": [
    {
     "output_type": "execute_result",
     "data": {
      "text/plain": [
       "(   Adj. Close  Prediction\n",
       " 0    1.729167    1.541667\n",
       " 1    1.708333    1.515833\n",
       " 2    1.635833    1.588333\n",
       " 3    1.427500    1.911667\n",
       " 4    1.395833    2.000000,\n",
       "       Adj. Close  Prediction\n",
       " 5213     1442.84     1581.86\n",
       " 5214     1416.78     1544.10\n",
       " 5215     1350.47     1495.56\n",
       " 5216     1338.99     1555.86\n",
       " 5217     1386.23     1497.05)"
      ]
     },
     "metadata": {},
     "execution_count": 106
    }
   ],
   "source": [
    "# a varialble for predicting 'n' days out into the future\n",
    "forecast_out = 30\n",
    "\n",
    "# another coumn (the target) shifted 'n' units up\n",
    "close['Prediction'] = close.shift(-forecast_out) \n",
    "close.dropna(inplace=True)\n",
    "close.head() , close.tail()"
   ]
  },
  {
   "cell_type": "markdown",
   "id": "fourth-barrel",
   "metadata": {},
   "source": [
    "# 2-step =  spliting the data"
   ]
  },
  {
   "cell_type": "code",
   "execution_count": 107,
   "id": "useful-rocket",
   "metadata": {},
   "outputs": [],
   "source": [
    "X_set = np.array(close[['Adj. Close']])\n",
    "\n",
    "Y_set = np.array(close['Prediction'])"
   ]
  },
  {
   "cell_type": "code",
   "execution_count": 108,
   "metadata": {},
   "outputs": [
    {
     "output_type": "execute_result",
     "data": {
      "text/plain": [
       "(4174, '+', 1044, '=', 5218)"
      ]
     },
     "metadata": {},
     "execution_count": 108
    }
   ],
   "source": [
    "#spliting in 4:1 (80:20) the data set\n",
    "from sklearn.model_selection import train_test_split\n",
    "\n",
    "X_train , X_test , Y_train , Y_test = train_test_split(X_set , Y_set , test_size = 0.2) # test_size = 20%\n",
    "len(X_train) ,'+', len(X_test) ,'=', len(X_set)"
   ]
  },
  {
   "source": [
    "# 3-step =  training the data by :\n",
    "##  1-svm (SVR) (support vector machine)\n",
    "##  2-linear regression\n",
    "##  "
   ],
   "cell_type": "markdown",
   "metadata": {}
  },
  {
   "cell_type": "code",
   "execution_count": 109,
   "id": "cloudy-portal",
   "metadata": {},
   "outputs": [
    {
     "output_type": "stream",
     "name": "stdout",
     "text": [
      "Score of SVR model :  94.61822640869782 %\n"
     ]
    }
   ],
   "source": [
    "#1 - #Support Vector machine (Regressor)\n",
    "from sklearn.svm import SVR \n",
    "\n",
    "svr_rbf = SVR(kernel= 'rbf' , C=1e3 , gamma=0.1 ) \n",
    "svr_rbf.fit(X_train , Y_train) #SVR(C=1000.0, gamma=0.1)\n",
    "print('Score of SVR model : ',svr_rbf.score(X_test , Y_test) * 100 ,'%')"
   ]
  },
  {
   "source": [
    "#2 - linear regression\n",
    "from sklearn.linear_model import LinearRegression\n",
    "\n",
    "lr = LinearRegression()\n",
    "lr.fit(X_train , Y_train)\n",
    "lr.score(X_test , Y_test)\n",
    "\n",
    "print('Score of lr model : ',lr.score(X_test , Y_test) * 100 ,'%')"
   ],
   "cell_type": "code",
   "metadata": {
    "tags": []
   },
   "execution_count": 110,
   "outputs": [
    {
     "output_type": "stream",
     "name": "stdout",
     "text": [
      "Score of lr model :  98.78166798628982 %\n"
     ]
    }
   ]
  },
  {
   "cell_type": "code",
   "execution_count": 111,
   "id": "confidential-sapphire",
   "metadata": {},
   "outputs": [
    {
     "output_type": "stream",
     "name": "stdout",
     "text": [
      "<class 'numpy.ndarray'> (30, 1)\n"
     ]
    },
    {
     "output_type": "execute_result",
     "data": {
      "text/plain": [
       "array([[1169.47],\n",
       "       [1189.01],\n",
       "       [1204.2 ],\n",
       "       [1209.59]])"
      ]
     },
     "metadata": {},
     "execution_count": 111
    }
   ],
   "source": [
    "#set x_forecast equl to the last 30 rows of the original data set from Adf. Close column\n",
    "x_forecast = np.array(close[['Adj. Close']])[-forecast_out:]\n",
    "print(type(x_forecast) , x_forecast.shape)\n",
    "x_forecast[:4]\n",
    "\n",
    "#without reshape : shape = (30,1)\n",
    "#with .reshape(1,-1) : shape = (1, 30)\n",
    "#with .reshape(2,-2) : shape = (2, 15)\n",
    "#with .reshape(3,-2) : shape = (3,10)"
   ]
  },
  {
   "cell_type": "code",
   "execution_count": 112,
   "metadata": {},
   "outputs": [
    {
     "output_type": "execute_result",
     "data": {
      "text/plain": [
       "array([1414.41042621, 1450.94977818,  711.77738827, 1448.5902625 ,\n",
       "       1468.2502081 , 1482.82019319, 1484.65989942, 1499.89972274,\n",
       "       1521.85014717,  668.73668296,  668.74509646, 1493.5500673 ,\n",
       "       1403.01446389, 1513.7927143 , 1537.53976974, 1544.89977197,\n",
       "       1551.75987368, 1578.79022431, 1598.28990369, 1475.89842847,\n",
       "        750.52321883, 1582.22012176,  879.31597418, 1544.82967185,\n",
       "       1586.41000322, 1581.76000096, 1544.00003503, 1495.45978048,\n",
       "       1555.75986738, 1496.95008759])"
      ]
     },
     "metadata": {},
     "execution_count": 112
    }
   ],
   "source": [
    "# predi for the last n days by linear SVR \n",
    "svr_pred = svr_rbf.predict(x_forecast)\n",
    "svr_pred"
   ]
  },
  {
   "source": [
    "# predi for the last n days by linear regression mode\n",
    "lr_pred = lr.predict(x_forecast)\n",
    "lr_pred"
   ],
   "cell_type": "code",
   "metadata": {},
   "execution_count": 113,
   "outputs": [
    {
     "output_type": "execute_result",
     "data": {
      "text/plain": [
       "array([1239.61297102, 1260.38052901, 1276.52480771, 1282.25342274,\n",
       "       1303.03160895, 1321.87545763, 1328.07171469, 1329.8041159 ,\n",
       "       1353.55820602, 1383.86991297, 1383.50855321, 1373.02912016,\n",
       "       1371.24357782, 1372.58273458, 1407.36892562, 1444.81217372,\n",
       "       1439.46617491, 1461.19027344, 1486.80430351, 1503.41622425,\n",
       "       1524.82147593, 1539.52031559, 1473.99728847, 1517.57302427,\n",
       "       1481.03317557, 1530.15684651, 1502.45968371, 1431.98390223,\n",
       "       1419.7826962 , 1469.99044643])"
      ]
     },
     "metadata": {},
     "execution_count": 113
    }
   ]
  },
  {
   "source": [
    "# saving the model"
   ],
   "cell_type": "markdown",
   "metadata": {}
  },
  {
   "cell_type": "code",
   "execution_count": 114,
   "metadata": {},
   "outputs": [],
   "source": [
    "import joblib"
   ]
  },
  {
   "source": [
    "joblib.dump(svr_rbf , 'SVR Amzn stock.joblib')\n",
    "joblib.dump(lr , 'LR Amzn stock.joblib')"
   ],
   "cell_type": "markdown",
   "metadata": {}
  },
  {
   "cell_type": "code",
   "execution_count": null,
   "metadata": {},
   "outputs": [],
   "source": [
    "joblib.dump(svr_rbf , 'SVR FB stock.joblib')\n",
    "joblib.dump(lr , 'LR FB stock.joblib')"
   ]
  }
 ],
 "metadata": {
  "kernelspec": {
   "name": "python3",
   "display_name": "Python 3.8.5 32-bit ('vir-ml': venv)",
   "metadata": {
    "interpreter": {
     "hash": "c69f21bfac23963320fcde794aaac591e30488337da9b719732493baa57ae9d9"
    }
   }
  },
  "language_info": {
   "codemirror_mode": {
    "name": "ipython",
    "version": 3
   },
   "file_extension": ".py",
   "mimetype": "text/x-python",
   "name": "python",
   "nbconvert_exporter": "python",
   "pygments_lexer": "ipython3",
   "version": "3.8.5-final"
  }
 },
 "nbformat": 4,
 "nbformat_minor": 5
}