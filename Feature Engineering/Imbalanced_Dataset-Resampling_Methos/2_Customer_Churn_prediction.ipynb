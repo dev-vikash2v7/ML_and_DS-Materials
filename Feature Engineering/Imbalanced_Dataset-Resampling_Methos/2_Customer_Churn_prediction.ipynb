{
 "cells": [
  {
   "cell_type": "code",
   "execution_count": 6,
   "metadata": {},
   "outputs": [],
   "source": [
    "import keras\n",
    "import numpy as np\n",
    "import matplotlib.pyplot as plt\n",
    "import pandas as pd"
   ]
  },
  {
   "cell_type": "code",
   "execution_count": 7,
   "metadata": {},
   "outputs": [
    {
     "data": {
      "text/html": [
       "<div>\n",
       "<style scoped>\n",
       "    .dataframe tbody tr th:only-of-type {\n",
       "        vertical-align: middle;\n",
       "    }\n",
       "\n",
       "    .dataframe tbody tr th {\n",
       "        vertical-align: top;\n",
       "    }\n",
       "\n",
       "    .dataframe thead th {\n",
       "        text-align: right;\n",
       "    }\n",
       "</style>\n",
       "<table border=\"1\" class=\"dataframe\">\n",
       "  <thead>\n",
       "    <tr style=\"text-align: right;\">\n",
       "      <th></th>\n",
       "      <th>InternetService_DSL</th>\n",
       "      <th>InternetService_Fiber optic</th>\n",
       "      <th>Contract_One year</th>\n",
       "      <th>Contract_Two year</th>\n",
       "      <th>PaymentMethod_Credit card (automatic)</th>\n",
       "      <th>PaymentMethod_Electronic check</th>\n",
       "      <th>PaymentMethod_Mailed check</th>\n",
       "      <th>gender</th>\n",
       "      <th>SeniorCitizen</th>\n",
       "      <th>Partner</th>\n",
       "      <th>...</th>\n",
       "      <th>OnlineSecurity</th>\n",
       "      <th>OnlineBackup</th>\n",
       "      <th>DeviceProtection</th>\n",
       "      <th>TechSupport</th>\n",
       "      <th>StreamingTV</th>\n",
       "      <th>StreamingMovies</th>\n",
       "      <th>PaperlessBilling</th>\n",
       "      <th>MonthlyCharges</th>\n",
       "      <th>TotalCharges</th>\n",
       "      <th>Churn</th>\n",
       "    </tr>\n",
       "  </thead>\n",
       "  <tbody>\n",
       "    <tr>\n",
       "      <th>2860</th>\n",
       "      <td>0</td>\n",
       "      <td>1</td>\n",
       "      <td>0</td>\n",
       "      <td>1</td>\n",
       "      <td>0</td>\n",
       "      <td>0</td>\n",
       "      <td>0</td>\n",
       "      <td>0</td>\n",
       "      <td>0</td>\n",
       "      <td>1</td>\n",
       "      <td>...</td>\n",
       "      <td>1</td>\n",
       "      <td>1</td>\n",
       "      <td>1</td>\n",
       "      <td>0</td>\n",
       "      <td>1</td>\n",
       "      <td>1</td>\n",
       "      <td>0</td>\n",
       "      <td>0.905473</td>\n",
       "      <td>0.815105</td>\n",
       "      <td>0</td>\n",
       "    </tr>\n",
       "    <tr>\n",
       "      <th>411</th>\n",
       "      <td>0</td>\n",
       "      <td>0</td>\n",
       "      <td>1</td>\n",
       "      <td>0</td>\n",
       "      <td>0</td>\n",
       "      <td>0</td>\n",
       "      <td>0</td>\n",
       "      <td>0</td>\n",
       "      <td>0</td>\n",
       "      <td>1</td>\n",
       "      <td>...</td>\n",
       "      <td>0</td>\n",
       "      <td>0</td>\n",
       "      <td>0</td>\n",
       "      <td>0</td>\n",
       "      <td>0</td>\n",
       "      <td>0</td>\n",
       "      <td>1</td>\n",
       "      <td>0.061692</td>\n",
       "      <td>0.120857</td>\n",
       "      <td>0</td>\n",
       "    </tr>\n",
       "    <tr>\n",
       "      <th>2540</th>\n",
       "      <td>1</td>\n",
       "      <td>0</td>\n",
       "      <td>1</td>\n",
       "      <td>0</td>\n",
       "      <td>0</td>\n",
       "      <td>0</td>\n",
       "      <td>0</td>\n",
       "      <td>0</td>\n",
       "      <td>0</td>\n",
       "      <td>1</td>\n",
       "      <td>...</td>\n",
       "      <td>1</td>\n",
       "      <td>0</td>\n",
       "      <td>1</td>\n",
       "      <td>1</td>\n",
       "      <td>1</td>\n",
       "      <td>0</td>\n",
       "      <td>1</td>\n",
       "      <td>0.522388</td>\n",
       "      <td>0.489805</td>\n",
       "      <td>0</td>\n",
       "    </tr>\n",
       "    <tr>\n",
       "      <th>3370</th>\n",
       "      <td>0</td>\n",
       "      <td>0</td>\n",
       "      <td>0</td>\n",
       "      <td>0</td>\n",
       "      <td>0</td>\n",
       "      <td>0</td>\n",
       "      <td>1</td>\n",
       "      <td>0</td>\n",
       "      <td>0</td>\n",
       "      <td>1</td>\n",
       "      <td>...</td>\n",
       "      <td>0</td>\n",
       "      <td>0</td>\n",
       "      <td>0</td>\n",
       "      <td>0</td>\n",
       "      <td>0</td>\n",
       "      <td>0</td>\n",
       "      <td>1</td>\n",
       "      <td>0.011443</td>\n",
       "      <td>0.000069</td>\n",
       "      <td>0</td>\n",
       "    </tr>\n",
       "    <tr>\n",
       "      <th>2245</th>\n",
       "      <td>0</td>\n",
       "      <td>0</td>\n",
       "      <td>1</td>\n",
       "      <td>0</td>\n",
       "      <td>1</td>\n",
       "      <td>0</td>\n",
       "      <td>0</td>\n",
       "      <td>0</td>\n",
       "      <td>0</td>\n",
       "      <td>0</td>\n",
       "      <td>...</td>\n",
       "      <td>0</td>\n",
       "      <td>0</td>\n",
       "      <td>0</td>\n",
       "      <td>0</td>\n",
       "      <td>0</td>\n",
       "      <td>0</td>\n",
       "      <td>0</td>\n",
       "      <td>0.018408</td>\n",
       "      <td>0.032731</td>\n",
       "      <td>0</td>\n",
       "    </tr>\n",
       "  </tbody>\n",
       "</table>\n",
       "<p>5 rows × 24 columns</p>\n",
       "</div>"
      ],
      "text/plain": [
       "      InternetService_DSL  InternetService_Fiber optic  Contract_One year  \\\n",
       "2860                    0                            1                  0   \n",
       "411                     0                            0                  1   \n",
       "2540                    1                            0                  1   \n",
       "3370                    0                            0                  0   \n",
       "2245                    0                            0                  1   \n",
       "\n",
       "      Contract_Two year  PaymentMethod_Credit card (automatic)  \\\n",
       "2860                  1                                      0   \n",
       "411                   0                                      0   \n",
       "2540                  0                                      0   \n",
       "3370                  0                                      0   \n",
       "2245                  0                                      1   \n",
       "\n",
       "      PaymentMethod_Electronic check  PaymentMethod_Mailed check  gender  \\\n",
       "2860                               0                           0       0   \n",
       "411                                0                           0       0   \n",
       "2540                               0                           0       0   \n",
       "3370                               0                           1       0   \n",
       "2245                               0                           0       0   \n",
       "\n",
       "      SeniorCitizen  Partner  ...  OnlineSecurity  OnlineBackup  \\\n",
       "2860              0        1  ...               1             1   \n",
       "411               0        1  ...               0             0   \n",
       "2540              0        1  ...               1             0   \n",
       "3370              0        1  ...               0             0   \n",
       "2245              0        0  ...               0             0   \n",
       "\n",
       "      DeviceProtection  TechSupport  StreamingTV  StreamingMovies  \\\n",
       "2860                 1            0            1                1   \n",
       "411                  0            0            0                0   \n",
       "2540                 1            1            1                0   \n",
       "3370                 0            0            0                0   \n",
       "2245                 0            0            0                0   \n",
       "\n",
       "      PaperlessBilling  MonthlyCharges  TotalCharges  Churn  \n",
       "2860                 0        0.905473      0.815105      0  \n",
       "411                  1        0.061692      0.120857      0  \n",
       "2540                 1        0.522388      0.489805      0  \n",
       "3370                 1        0.011443      0.000069      0  \n",
       "2245                 0        0.018408      0.032731      0  \n",
       "\n",
       "[5 rows x 24 columns]"
      ]
     },
     "execution_count": 7,
     "metadata": {},
     "output_type": "execute_result"
    }
   ],
   "source": [
    "df = pd.read_csv(\"customer_churn_updated.csv\")\n",
    "df.sample(5)"
   ]
  },
  {
   "cell_type": "code",
   "execution_count": 8,
   "metadata": {},
   "outputs": [
    {
     "data": {
      "text/plain": [
       "(7032, 24)"
      ]
     },
     "execution_count": 8,
     "metadata": {},
     "output_type": "execute_result"
    }
   ],
   "source": [
    "df.shape"
   ]
  },
  {
   "cell_type": "code",
   "execution_count": 9,
   "metadata": {},
   "outputs": [
    {
     "data": {
      "text/plain": [
       "Churn\n",
       "0    5163\n",
       "1    1869\n",
       "Name: count, dtype: int64"
      ]
     },
     "execution_count": 9,
     "metadata": {},
     "output_type": "execute_result"
    }
   ],
   "source": [
    "df.Churn.value_counts() \n"
   ]
  },
  {
   "cell_type": "markdown",
   "metadata": {},
   "source": [
    "# The Data is imbalanced \n",
    "* majority class is 0 \n",
    "* minority class is 1"
   ]
  },
  {
   "cell_type": "markdown",
   "metadata": {},
   "source": [
    "# splitting the train test"
   ]
  },
  {
   "cell_type": "code",
   "execution_count": 10,
   "metadata": {},
   "outputs": [],
   "source": [
    "X = df.drop('Churn' , axis = 1)\n",
    "y = df['Churn']"
   ]
  },
  {
   "cell_type": "code",
   "execution_count": 11,
   "metadata": {},
   "outputs": [
    {
     "data": {
      "text/plain": [
       "((4922, 23), (2110, 23))"
      ]
     },
     "execution_count": 11,
     "metadata": {},
     "output_type": "execute_result"
    }
   ],
   "source": [
    "from sklearn.model_selection import train_test_split\n",
    "x_train , x_test , y_train , y_test = train_test_split(X , y, test_size=0.3 ,random_state=25 )\n",
    "x_train.shape , x_test.shape "
   ]
  },
  {
   "cell_type": "markdown",
   "metadata": {},
   "source": [
    "# Build Model on Imbalanced Dataset"
   ]
  },
  {
   "cell_type": "code",
   "execution_count": 12,
   "metadata": {},
   "outputs": [
    {
     "name": "stdout",
     "output_type": "stream",
     "text": [
      "Epoch 1/10\n",
      "154/154 [==============================] - 3s 4ms/step - loss: 0.4517 - accuracy: 0.7830\n",
      "Epoch 2/10\n",
      "154/154 [==============================] - 1s 4ms/step - loss: 0.4257 - accuracy: 0.7991\n",
      "Epoch 3/10\n",
      "154/154 [==============================] - 1s 4ms/step - loss: 0.4204 - accuracy: 0.8019\n",
      "Epoch 4/10\n",
      "154/154 [==============================] - 1s 4ms/step - loss: 0.4167 - accuracy: 0.8068\n",
      "Epoch 5/10\n",
      "154/154 [==============================] - 1s 5ms/step - loss: 0.4154 - accuracy: 0.8019\n",
      "Epoch 6/10\n",
      "154/154 [==============================] - 1s 4ms/step - loss: 0.4129 - accuracy: 0.8066\n",
      "Epoch 7/10\n",
      "154/154 [==============================] - 1s 4ms/step - loss: 0.4070 - accuracy: 0.8133\n",
      "Epoch 8/10\n",
      "154/154 [==============================] - 1s 4ms/step - loss: 0.4097 - accuracy: 0.8082\n",
      "Epoch 9/10\n",
      "154/154 [==============================] - 1s 3ms/step - loss: 0.4004 - accuracy: 0.8163\n",
      "Epoch 10/10\n",
      "154/154 [==============================] - 1s 4ms/step - loss: 0.4000 - accuracy: 0.8192\n",
      "66/66 [==============================] - 1s 4ms/step - loss: 0.4386 - accuracy: 0.7891\n",
      "evaluation result :  [0.4386177361011505, 0.7890995144844055]\n",
      "66/66 [==============================] - 0s 3ms/step\n"
     ]
    }
   ],
   "source": [
    "from sklearn.metrics import confusion_matrix , classification_report\n",
    "import seaborn as sn\n",
    "\n",
    "def ANN_Model(x_train , y_train , x_test , y_test , epoches):\n",
    "\n",
    "    model = keras.Sequential([\n",
    "        \n",
    "        keras.layers.Dense(  23, input_shape = ( 23 , )  , activation = 'relu'   ),\n",
    "        keras.layers.Dense(  15  , activation = 'relu'  ),\n",
    "        keras.layers.Dense(  1   , activation = 'sigmoid')   \n",
    "    ] )\n",
    "    opt = keras.optimizers.Adam(learning_rate=0.01)\n",
    "\n",
    "    model.compile( \n",
    "                optimizer=opt,\n",
    "                loss ='binary_crossentropy',\n",
    "                metrics = ['accuracy']\n",
    "                )\n",
    "\n",
    "    model.fit(x_train , y_train , epochs=epoches)\n",
    "    \n",
    "    print('evaluation result : ' , model.evaluate(x_test , y_test))\n",
    "    \n",
    "    \n",
    "    y_pred = model.predict(x_test)\n",
    "    y_pred = np.round( y_pred)\n",
    "            \n",
    "    return y_pred\n",
    "\n",
    "y_pred = ANN_Model(x_train  , y_train , x_test , y_test , epoches = 10 )\n",
    "\n"
   ]
  },
  {
   "cell_type": "code",
   "execution_count": 13,
   "metadata": {},
   "outputs": [],
   "source": [
    "def model_evaluation(y_test , y_pred):\n",
    "    print('------------------------')\n",
    "    print('\\nclassification Report')\n",
    "    print(classification_report(y_test,y_pred))\n",
    "\n",
    "\n",
    "    print('------------------------')\n",
    "    cm = confusion_matrix(y_pred,y_test)\n",
    "    plt.figure(figsize = (5,3))\n",
    "    sn.heatmap(cm, annot=True, fmt='d')\n",
    "    plt.xlabel('Predicted')\n",
    "    plt.ylabel('Truth')"
   ]
  },
  {
   "cell_type": "code",
   "execution_count": 14,
   "metadata": {},
   "outputs": [
    {
     "name": "stdout",
     "output_type": "stream",
     "text": [
      "------------------------\n",
      "\n",
      "classification Report\n",
      "              precision    recall  f1-score   support\n",
      "\n",
      "           0       0.82      0.91      0.86      1553\n",
      "           1       0.64      0.46      0.54       557\n",
      "\n",
      "    accuracy                           0.79      2110\n",
      "   macro avg       0.73      0.68      0.70      2110\n",
      "weighted avg       0.78      0.79      0.78      2110\n",
      "\n",
      "------------------------\n"
     ]
    },
    {
     "data": {
      "image/png": "[encoded data removed]",
      "text/plain": [
       "<Figure size 500x300 with 2 Axes>"
      ]
     },
     "metadata": {},
     "output_type": "display_data"
    }
   ],
   "source": [
    "model_evaluation(y_test , y_pred)\n"
   ]
  },
  {
   "cell_type": "markdown",
   "metadata": {},
   "source": [
    "<h2 style='color:red'> F1-Score is very low for the minority class (1)</h2>"
   ]
  },
  {
   "cell_type": "markdown",
   "metadata": {},
   "source": [
    "# Build Model on balanced Dataset"
   ]
  },
  {
   "cell_type": "markdown",
   "metadata": {},
   "source": [
    "<h1 style='color:blue'> 1.Undersampling The Majority class </h1>"
   ]
  },
  {
   "cell_type": "code",
   "execution_count": 15,
   "metadata": {},
   "outputs": [
    {
     "data": {
      "text/plain": [
       "(5163, 1869)"
      ]
     },
     "execution_count": 15,
     "metadata": {},
     "output_type": "execute_result"
    }
   ],
   "source": [
    "class_0_count , class_1_count = df.Churn.value_counts()\n",
    "class_0_count , class_1_count"
   ]
  },
  {
   "cell_type": "code",
   "execution_count": 16,
   "metadata": {},
   "outputs": [
    {
     "data": {
      "text/plain": [
       "((5163, 24), (1869, 24))"
      ]
     },
     "execution_count": 16,
     "metadata": {},
     "output_type": "execute_result"
    }
   ],
   "source": [
    "class_0_df = df[ df.Churn == 0] \n",
    "class_1_df = df[ df.Churn == 1]\n",
    "class_0_df.shape , class_1_df.shape"
   ]
  },
  {
   "cell_type": "code",
   "execution_count": 17,
   "metadata": {},
   "outputs": [
    {
     "data": {
      "text/html": [
       "<div>\n",
       "<style scoped>\n",
       "    .dataframe tbody tr th:only-of-type {\n",
       "        vertical-align: middle;\n",
       "    }\n",
       "\n",
       "    .dataframe tbody tr th {\n",
       "        vertical-align: top;\n",
       "    }\n",
       "\n",
       "    .dataframe thead th {\n",
       "        text-align: right;\n",
       "    }\n",
       "</style>\n",
       "<table border=\"1\" class=\"dataframe\">\n",
       "  <thead>\n",
       "    <tr style=\"text-align: right;\">\n",
       "      <th></th>\n",
       "      <th>InternetService_DSL</th>\n",
       "      <th>InternetService_Fiber optic</th>\n",
       "      <th>Contract_One year</th>\n",
       "      <th>Contract_Two year</th>\n",
       "      <th>PaymentMethod_Credit card (automatic)</th>\n",
       "      <th>PaymentMethod_Electronic check</th>\n",
       "      <th>PaymentMethod_Mailed check</th>\n",
       "      <th>gender</th>\n",
       "      <th>SeniorCitizen</th>\n",
       "      <th>Partner</th>\n",
       "      <th>...</th>\n",
       "      <th>OnlineSecurity</th>\n",
       "      <th>OnlineBackup</th>\n",
       "      <th>DeviceProtection</th>\n",
       "      <th>TechSupport</th>\n",
       "      <th>StreamingTV</th>\n",
       "      <th>StreamingMovies</th>\n",
       "      <th>PaperlessBilling</th>\n",
       "      <th>MonthlyCharges</th>\n",
       "      <th>TotalCharges</th>\n",
       "      <th>Churn</th>\n",
       "    </tr>\n",
       "  </thead>\n",
       "  <tbody>\n",
       "    <tr>\n",
       "      <th>1526</th>\n",
       "      <td>0</td>\n",
       "      <td>0</td>\n",
       "      <td>0</td>\n",
       "      <td>0</td>\n",
       "      <td>0</td>\n",
       "      <td>1</td>\n",
       "      <td>0</td>\n",
       "      <td>0</td>\n",
       "      <td>0</td>\n",
       "      <td>1</td>\n",
       "      <td>...</td>\n",
       "      <td>0</td>\n",
       "      <td>0</td>\n",
       "      <td>0</td>\n",
       "      <td>0</td>\n",
       "      <td>0</td>\n",
       "      <td>0</td>\n",
       "      <td>1</td>\n",
       "      <td>0.074627</td>\n",
       "      <td>0.099671</td>\n",
       "      <td>0</td>\n",
       "    </tr>\n",
       "    <tr>\n",
       "      <th>2354</th>\n",
       "      <td>1</td>\n",
       "      <td>0</td>\n",
       "      <td>0</td>\n",
       "      <td>0</td>\n",
       "      <td>0</td>\n",
       "      <td>0</td>\n",
       "      <td>0</td>\n",
       "      <td>1</td>\n",
       "      <td>0</td>\n",
       "      <td>1</td>\n",
       "      <td>...</td>\n",
       "      <td>1</td>\n",
       "      <td>1</td>\n",
       "      <td>1</td>\n",
       "      <td>0</td>\n",
       "      <td>1</td>\n",
       "      <td>0</td>\n",
       "      <td>1</td>\n",
       "      <td>0.542289</td>\n",
       "      <td>0.280250</td>\n",
       "      <td>0</td>\n",
       "    </tr>\n",
       "  </tbody>\n",
       "</table>\n",
       "<p>2 rows × 24 columns</p>\n",
       "</div>"
      ],
      "text/plain": [
       "      InternetService_DSL  InternetService_Fiber optic  Contract_One year  \\\n",
       "1526                    0                            0                  0   \n",
       "2354                    1                            0                  0   \n",
       "\n",
       "      Contract_Two year  PaymentMethod_Credit card (automatic)  \\\n",
       "1526                  0                                      0   \n",
       "2354                  0                                      0   \n",
       "\n",
       "      PaymentMethod_Electronic check  PaymentMethod_Mailed check  gender  \\\n",
       "1526                               1                           0       0   \n",
       "2354                               0                           0       1   \n",
       "\n",
       "      SeniorCitizen  Partner  ...  OnlineSecurity  OnlineBackup  \\\n",
       "1526              0        1  ...               0             0   \n",
       "2354              0        1  ...               1             1   \n",
       "\n",
       "      DeviceProtection  TechSupport  StreamingTV  StreamingMovies  \\\n",
       "1526                 0            0            0                0   \n",
       "2354                 1            0            1                0   \n",
       "\n",
       "      PaperlessBilling  MonthlyCharges  TotalCharges  Churn  \n",
       "1526                 1        0.074627      0.099671      0  \n",
       "2354                 1        0.542289      0.280250      0  \n",
       "\n",
       "[2 rows x 24 columns]"
      ]
     },
     "execution_count": 17,
     "metadata": {},
     "output_type": "execute_result"
    }
   ],
   "source": [
    "class_0_df.sample(2)"
   ]
  },
  {
   "cell_type": "code",
   "execution_count": 18,
   "metadata": {},
   "outputs": [
    {
     "data": {
      "text/plain": [
       "((1869, 24), (1869, 24))"
      ]
     },
     "execution_count": 18,
     "metadata": {},
     "output_type": "execute_result"
    }
   ],
   "source": [
    "df_class_0_under = class_0_df.sample(class_1_count)\n",
    "df_class_0_under.shape ,class_1_df.shape"
   ]
  },
  {
   "cell_type": "code",
   "execution_count": 19,
   "metadata": {},
   "outputs": [
    {
     "name": "stdout",
     "output_type": "stream",
     "text": [
      "Random Under-Sampling Data : \n"
     ]
    },
    {
     "data": {
      "text/plain": [
       "Churn\n",
       "0    1869\n",
       "1    1869\n",
       "Name: count, dtype: int64"
      ]
     },
     "execution_count": 19,
     "metadata": {},
     "output_type": "execute_result"
    }
   ],
   "source": [
    "undersampled_df = pd.concat([df_class_0_under ,class_1_df ] , axis = 0)\n",
    "\n",
    "print('Random Under-Sampling Data : ')\n",
    "undersampled_df.Churn.value_counts()"
   ]
  },
  {
   "cell_type": "code",
   "execution_count": 20,
   "metadata": {},
   "outputs": [
    {
     "data": {
      "text/plain": [
       "Churn\n",
       "1    1308\n",
       "0    1308\n",
       "Name: count, dtype: int64"
      ]
     },
     "execution_count": 20,
     "metadata": {},
     "output_type": "execute_result"
    }
   ],
   "source": [
    "X = undersampled_df.drop('Churn' , axis = 1)\n",
    "y = undersampled_df['Churn']\n",
    "x_train , x_test , y_train , y_test = train_test_split(X , y, test_size=0.3 ,random_state=15 , stratify = y )\n",
    "y_train.value_counts()\n"
   ]
  },
  {
   "cell_type": "code",
   "execution_count": 21,
   "metadata": {},
   "outputs": [
    {
     "data": {
      "image/png": "[encoded data removed]",
      "text/plain": [
       "<Figure size 640x480 with 1 Axes>"
      ]
     },
     "metadata": {},
     "output_type": "display_data"
    }
   ],
   "source": [
    "y_train.value_counts().plot(kind='bar', title='Count (target)');\n"
   ]
  },
  {
   "cell_type": "code",
   "execution_count": 22,
   "metadata": {},
   "outputs": [
    {
     "name": "stdout",
     "output_type": "stream",
     "text": [
      "Epoch 1/10\n",
      "82/82 [==============================] - 2s 3ms/step - loss: 0.5177 - accuracy: 0.7477\n",
      "Epoch 2/10\n",
      "82/82 [==============================] - 0s 4ms/step - loss: 0.4898 - accuracy: 0.7672\n",
      "Epoch 3/10\n",
      "82/82 [==============================] - 0s 5ms/step - loss: 0.4846 - accuracy: 0.7645\n",
      "Epoch 4/10\n",
      "82/82 [==============================] - 0s 3ms/step - loss: 0.4692 - accuracy: 0.7733\n",
      "Epoch 5/10\n",
      "82/82 [==============================] - 0s 6ms/step - loss: 0.4792 - accuracy: 0.7714\n",
      "Epoch 6/10\n",
      "82/82 [==============================] - 0s 4ms/step - loss: 0.4647 - accuracy: 0.7791\n",
      "Epoch 7/10\n",
      "82/82 [==============================] - 0s 3ms/step - loss: 0.4644 - accuracy: 0.7775\n",
      "Epoch 8/10\n",
      "82/82 [==============================] - 0s 5ms/step - loss: 0.4614 - accuracy: 0.7775\n",
      "Epoch 9/10\n",
      "82/82 [==============================] - 0s 4ms/step - loss: 0.4539 - accuracy: 0.7871\n",
      "Epoch 10/10\n",
      "82/82 [==============================] - 0s 3ms/step - loss: 0.4502 - accuracy: 0.7863\n",
      "36/36 [==============================] - 1s 5ms/step - loss: 0.5297 - accuracy: 0.7273\n",
      "evaluation result :  [0.5296920537948608, 0.7272727489471436]\n",
      "36/36 [==============================] - 0s 4ms/step\n"
     ]
    }
   ],
   "source": [
    "y_pred = ANN_Model(x_train  , y_train , x_test , y_test , epoches = 10 )\n"
   ]
  },
  {
   "cell_type": "code",
   "execution_count": 23,
   "metadata": {},
   "outputs": [
    {
     "name": "stdout",
     "output_type": "stream",
     "text": [
      "------------------------\n",
      "\n",
      "classification Report\n",
      "              precision    recall  f1-score   support\n",
      "\n",
      "           0       0.74      0.70      0.72       561\n",
      "           1       0.72      0.75      0.73       561\n",
      "\n",
      "    accuracy                           0.73      1122\n",
      "   macro avg       0.73      0.73      0.73      1122\n",
      "weighted avg       0.73      0.73      0.73      1122\n",
      "\n",
      "------------------------\n"
     ]
    },
    {
     "data": {
      "image/png": "[encoded data removed]",
      "text/plain": [
       "<Figure size 500x300 with 2 Axes>"
      ]
     },
     "metadata": {},
     "output_type": "display_data"
    }
   ],
   "source": [
    "model_evaluation(y_test , y_pred)\n"
   ]
  },
  {
   "cell_type": "markdown",
   "metadata": {},
   "source": [
    "<h2 style='color:red'> F1-Score is improved  for the minority class (1) : from 0.57 to 0.77</h2>"
   ]
  },
  {
   "cell_type": "markdown",
   "metadata": {},
   "source": [
    "<h1 style='color:blue'> 2. Random Oversampling The Minority class </h1>"
   ]
  },
  {
   "cell_type": "code",
   "execution_count": 24,
   "metadata": {},
   "outputs": [
    {
     "data": {
      "text/plain": [
       "(5163, 1869)"
      ]
     },
     "execution_count": 24,
     "metadata": {},
     "output_type": "execute_result"
    }
   ],
   "source": [
    "class_0_count , class_1_count"
   ]
  },
  {
   "cell_type": "code",
   "execution_count": 25,
   "metadata": {},
   "outputs": [
    {
     "data": {
      "text/plain": [
       "((5163, 24), (5163, 24))"
      ]
     },
     "execution_count": 25,
     "metadata": {},
     "output_type": "execute_result"
    }
   ],
   "source": [
    "df_class_1_over =  class_1_df.sample(class_0_count , replace=True)\n",
    "df_class_1_over.shape , class_0_df.shape"
   ]
  },
  {
   "cell_type": "code",
   "execution_count": 26,
   "metadata": {},
   "outputs": [
    {
     "name": "stdout",
     "output_type": "stream",
     "text": [
      "Random Oversampling-Sampling Minority clss : \n"
     ]
    },
    {
     "data": {
      "text/plain": [
       "Churn\n",
       "1    5163\n",
       "0    5163\n",
       "Name: count, dtype: int64"
      ]
     },
     "execution_count": 26,
     "metadata": {},
     "output_type": "execute_result"
    }
   ],
   "source": [
    "oversampled_df = pd.concat([df_class_1_over ,class_0_df ] , axis = 0)\n",
    "\n",
    "print('Random Oversampling-Sampling Minority clss : ')\n",
    "oversampled_df.Churn.value_counts()"
   ]
  },
  {
   "cell_type": "code",
   "execution_count": 27,
   "metadata": {},
   "outputs": [],
   "source": [
    "X = oversampled_df.drop('Churn' , axis = 1)\n",
    "y = oversampled_df['Churn']\n",
    "\n"
   ]
  },
  {
   "cell_type": "code",
   "execution_count": 28,
   "metadata": {},
   "outputs": [
    {
     "data": {
      "text/plain": [
       "Churn\n",
       "0    3614\n",
       "1    3614\n",
       "Name: count, dtype: int64"
      ]
     },
     "execution_count": 28,
     "metadata": {},
     "output_type": "execute_result"
    }
   ],
   "source": [
    "x_train , x_test , y_train , y_test = train_test_split(X , y, test_size=0.3 ,random_state=15 , stratify = y )\n",
    "y_train.value_counts()"
   ]
  },
  {
   "cell_type": "code",
   "execution_count": 29,
   "metadata": {},
   "outputs": [
    {
     "data": {
      "image/png": "[encoded data removed]",
      "text/plain": [
       "<Figure size 640x480 with 1 Axes>"
      ]
     },
     "metadata": {},
     "output_type": "display_data"
    }
   ],
   "source": [
    "y_train.value_counts().plot(kind='bar', title='Count (target)');"
   ]
  },
  {
   "cell_type": "code",
   "execution_count": 30,
   "metadata": {},
   "outputs": [
    {
     "data": {
      "text/plain": [
       "((7228, 23), (3098, 23))"
      ]
     },
     "execution_count": 30,
     "metadata": {},
     "output_type": "execute_result"
    }
   ],
   "source": [
    "x_train.shape , x_test.shape "
   ]
  },
  {
   "cell_type": "code",
   "execution_count": 31,
   "metadata": {},
   "outputs": [
    {
     "name": "stdout",
     "output_type": "stream",
     "text": [
      "Epoch 1/10\n",
      "226/226 [==============================] - 2s 3ms/step - loss: 0.5159 - accuracy: 0.7403\n",
      "Epoch 2/10\n",
      "226/226 [==============================] - 1s 3ms/step - loss: 0.4919 - accuracy: 0.7576\n",
      "Epoch 3/10\n",
      "226/226 [==============================] - 1s 4ms/step - loss: 0.4834 - accuracy: 0.7637\n",
      "Epoch 4/10\n",
      "226/226 [==============================] - 1s 4ms/step - loss: 0.4759 - accuracy: 0.7721\n",
      "Epoch 5/10\n",
      "226/226 [==============================] - 1s 4ms/step - loss: 0.4727 - accuracy: 0.7678\n",
      "Epoch 6/10\n",
      "226/226 [==============================] - 1s 4ms/step - loss: 0.4686 - accuracy: 0.7810\n",
      "Epoch 7/10\n",
      "226/226 [==============================] - 1s 5ms/step - loss: 0.4644 - accuracy: 0.7745\n",
      "Epoch 8/10\n",
      "226/226 [==============================] - 1s 4ms/step - loss: 0.4565 - accuracy: 0.7797\n",
      "Epoch 9/10\n",
      "226/226 [==============================] - 1s 4ms/step - loss: 0.4565 - accuracy: 0.7810\n",
      "Epoch 10/10\n",
      "226/226 [==============================] - 1s 5ms/step - loss: 0.4484 - accuracy: 0.7844\n",
      "97/97 [==============================] - 1s 5ms/step - loss: 0.4728 - accuracy: 0.7660\n",
      "evaluation result :  [0.4727654457092285, 0.7659780383110046]\n",
      "97/97 [==============================] - 1s 3ms/step\n"
     ]
    }
   ],
   "source": [
    "y_pred = ANN_Model(x_train  , y_train , x_test , y_test , epoches = 10 )\n"
   ]
  },
  {
   "cell_type": "code",
   "execution_count": 32,
   "metadata": {},
   "outputs": [
    {
     "name": "stdout",
     "output_type": "stream",
     "text": [
      "------------------------\n",
      "\n",
      "classification Report\n",
      "              precision    recall  f1-score   support\n",
      "\n",
      "           0       0.82      0.68      0.74      1549\n",
      "           1       0.73      0.85      0.78      1549\n",
      "\n",
      "    accuracy                           0.77      3098\n",
      "   macro avg       0.77      0.77      0.76      3098\n",
      "weighted avg       0.77      0.77      0.76      3098\n",
      "\n",
      "------------------------\n"
     ]
    },
    {
     "data": {
      "image/png": "[encoded data removed]",
      "text/plain": [
       "<Figure size 500x300 with 2 Axes>"
      ]
     },
     "metadata": {},
     "output_type": "display_data"
    }
   ],
   "source": [
    "model_evaluation(y_test , y_pred)\n"
   ]
  },
  {
   "cell_type": "markdown",
   "metadata": {},
   "source": [
    "<b>Check classification report above. f1-score for minority class 1 improved from 0.57 to 0.76. Score for class 0 reduced to 0.75 from 0.85 but that's ok. We have more generalized classifier which classifies both classes with similar prediction score\n",
    "\n",
    "</b>"
   ]
  },
  {
   "cell_type": "markdown",
   "metadata": {},
   "source": [
    "<h1 style='color:blue'> 3. SMOTE - Synthetic Minority Oversampling TEchnique  </h1>\n",
    "SMOTE (Synthetic Minority Oversampling TEchnique) consists of synthesizing elements for the minority class, based on those that already exist. It works randomly picingk a point from the minority class and computing the k-nearest neighbors for this point. The synthetic points are added between the chosen point and its neighbors."
   ]
  },
  {
   "cell_type": "code",
   "execution_count": 33,
   "metadata": {},
   "outputs": [
    {
     "name": "stdout",
     "output_type": "stream",
     "text": [
      "Churn\n",
      "0    5163\n",
      "1    1869\n",
      "Name: count, dtype: int64\n"
     ]
    },
    {
     "data": {
      "image/png": "[encoded data removed]",
      "text/plain": [
       "<Figure size 640x480 with 1 Axes>"
      ]
     },
     "metadata": {},
     "output_type": "display_data"
    }
   ],
   "source": [
    "X = df.drop('Churn' , axis = 1)\n",
    "y = df['Churn']\n",
    "\n",
    "print(y.value_counts())\n",
    "y.value_counts().plot(kind='bar', title='Count (target)')\n",
    "plt.show()"
   ]
  },
  {
   "cell_type": "code",
   "execution_count": 34,
   "metadata": {},
   "outputs": [
    {
     "data": {
      "text/plain": [
       "((10326, 23), (10326,))"
      ]
     },
     "execution_count": 34,
     "metadata": {},
     "output_type": "execute_result"
    }
   ],
   "source": [
    "# pip install imbalanced-learn\n",
    "from imblearn.over_sampling import SMOTE\n",
    "\n",
    "smote = SMOTE(sampling_strategy='minority')\n",
    "X_sm, y_sm = smote.fit_resample(X, y)\n",
    "\n",
    "X_sm.shape , y_sm.shape"
   ]
  },
  {
   "cell_type": "code",
   "execution_count": 35,
   "metadata": {},
   "outputs": [
    {
     "data": {
      "text/plain": [
       "((7032, 23), (7032,))"
      ]
     },
     "execution_count": 35,
     "metadata": {},
     "output_type": "execute_result"
    }
   ],
   "source": [
    "X.shape , y.shape"
   ]
  },
  {
   "cell_type": "code",
   "execution_count": 36,
   "metadata": {},
   "outputs": [
    {
     "name": "stdout",
     "output_type": "stream",
     "text": [
      "Churn\n",
      "0    5163\n",
      "1    5163\n",
      "Name: count, dtype: int64\n"
     ]
    },
    {
     "data": {
      "image/png": "[encoded data removed]",
      "text/plain": [
       "<Figure size 640x480 with 1 Axes>"
      ]
     },
     "metadata": {},
     "output_type": "display_data"
    }
   ],
   "source": [
    "print(y_sm.value_counts())\n",
    "y_sm.value_counts().plot(kind='bar', title='Count (target)')\n",
    "plt.show()"
   ]
  },
  {
   "cell_type": "code",
   "execution_count": 37,
   "metadata": {},
   "outputs": [
    {
     "data": {
      "text/plain": [
       "Churn\n",
       "0    3614\n",
       "1    3614\n",
       "Name: count, dtype: int64"
      ]
     },
     "execution_count": 37,
     "metadata": {},
     "output_type": "execute_result"
    }
   ],
   "source": [
    "x_train , x_test , y_train , y_test = train_test_split(X_sm , y_sm, test_size=0.3 ,random_state=15 , stratify = y_sm )\n",
    "y_train.value_counts()"
   ]
  },
  {
   "cell_type": "code",
   "execution_count": 38,
   "metadata": {},
   "outputs": [
    {
     "name": "stdout",
     "output_type": "stream",
     "text": [
      "Epoch 1/10\n",
      "226/226 [==============================] - 3s 4ms/step - loss: 0.4844 - accuracy: 0.7681\n",
      "Epoch 2/10\n",
      "226/226 [==============================] - 1s 4ms/step - loss: 0.4579 - accuracy: 0.7825\n",
      "Epoch 3/10\n",
      "226/226 [==============================] - 1s 3ms/step - loss: 0.4505 - accuracy: 0.7829\n",
      "Epoch 4/10\n",
      "226/226 [==============================] - 1s 4ms/step - loss: 0.4427 - accuracy: 0.7912\n",
      "Epoch 5/10\n",
      "226/226 [==============================] - 1s 4ms/step - loss: 0.4374 - accuracy: 0.7940\n",
      "Epoch 6/10\n",
      "226/226 [==============================] - 1s 4ms/step - loss: 0.4379 - accuracy: 0.7939\n",
      "Epoch 7/10\n",
      "226/226 [==============================] - 1s 4ms/step - loss: 0.4307 - accuracy: 0.7988\n",
      "Epoch 8/10\n",
      "226/226 [==============================] - 1s 4ms/step - loss: 0.4256 - accuracy: 0.8046\n",
      "Epoch 9/10\n",
      "226/226 [==============================] - 1s 3ms/step - loss: 0.4214 - accuracy: 0.8042\n",
      "Epoch 10/10\n",
      "226/226 [==============================] - 1s 4ms/step - loss: 0.4170 - accuracy: 0.8074\n",
      "97/97 [==============================] - 1s 4ms/step - loss: 0.4528 - accuracy: 0.7876\n",
      "evaluation result :  [0.4528385400772095, 0.7876049280166626]\n",
      "97/97 [==============================] - 0s 3ms/step\n"
     ]
    }
   ],
   "source": [
    "y_pred = ANN_Model(x_train  , y_train , x_test , y_test , epoches = 10 )\n"
   ]
  },
  {
   "cell_type": "code",
   "execution_count": 39,
   "metadata": {},
   "outputs": [
    {
     "name": "stdout",
     "output_type": "stream",
     "text": [
      "------------------------\n",
      "\n",
      "classification Report\n",
      "              precision    recall  f1-score   support\n",
      "\n",
      "           0       0.83      0.73      0.77      1549\n",
      "           1       0.76      0.85      0.80      1549\n",
      "\n",
      "    accuracy                           0.79      3098\n",
      "   macro avg       0.79      0.79      0.79      3098\n",
      "weighted avg       0.79      0.79      0.79      3098\n",
      "\n",
      "------------------------\n"
     ]
    },
    {
     "data": {
      "image/png": "[encoded data removed]",
      "text/plain": [
       "<Figure size 500x300 with 2 Axes>"
      ]
     },
     "metadata": {},
     "output_type": "display_data"
    }
   ],
   "source": [
    "model_evaluation(y_test , y_pred)"
   ]
  },
  {
   "cell_type": "markdown",
   "metadata": {},
   "source": [
    "<b>SMOT Oversampling increases f1 score of minority class 1 from 0.57 to 0.81 (huge improvement) Also over all accuracy improves from 0.78 to 0.80</b>"
   ]
  },
  {
   "cell_type": "markdown",
   "metadata": {},
   "source": [
    "# 4. Ensembe with undersampling"
   ]
  },
  {
   "cell_type": "code",
   "execution_count": 40,
   "metadata": {},
   "outputs": [],
   "source": [
    "# Regain Original features and labels\n",
    "X = df.drop('Churn',axis='columns')\n",
    "y = df['Churn']"
   ]
  },
  {
   "cell_type": "code",
   "execution_count": 41,
   "metadata": {},
   "outputs": [],
   "source": [
    "from sklearn.model_selection import train_test_split\n",
    "X_train, X_test, y_train, y_test = train_test_split(X, y, test_size=0.2, random_state=15, stratify=y)"
   ]
  },
  {
   "cell_type": "code",
   "execution_count": 42,
   "metadata": {},
   "outputs": [
    {
     "data": {
      "text/plain": [
       "Churn\n",
       "0    4130\n",
       "1    1495\n",
       "Name: count, dtype: int64"
      ]
     },
     "execution_count": 42,
     "metadata": {},
     "output_type": "execute_result"
    }
   ],
   "source": [
    "y_train.value_counts()"
   ]
  },
  {
   "cell_type": "code",
   "execution_count": 43,
   "metadata": {},
   "outputs": [
    {
     "data": {
      "text/plain": [
       "2.762541806020067"
      ]
     },
     "execution_count": 43,
     "metadata": {},
     "output_type": "execute_result"
    }
   ],
   "source": [
    "4130/1495"
   ]
  },
  {
   "cell_type": "markdown",
   "metadata": {},
   "source": [
    "model1 --> class1(1495) + class0(0, 1495)\n",
    "\n",
    "model2 --> class1(1495) + class0(1496, 2990)\n",
    "\n",
    "model3 --> class1(1495) + class0(2990, 4130)"
   ]
  },
  {
   "cell_type": "code",
   "execution_count": 44,
   "metadata": {},
   "outputs": [],
   "source": [
    "train_df = X_train.copy()\n",
    "train_df['Churn'] = y_train\n",
    "\n",
    "train_df_class0 = train_df[train_df.Churn==0]\n",
    "train_df_class1 = train_df[train_df.Churn==1]"
   ]
  },
  {
   "cell_type": "code",
   "execution_count": 45,
   "metadata": {},
   "outputs": [
    {
     "data": {
      "text/plain": [
       "((4130, 24), (1495, 24))"
      ]
     },
     "execution_count": 45,
     "metadata": {},
     "output_type": "execute_result"
    }
   ],
   "source": [
    "train_df_class0.shape , train_df_class1.shape"
   ]
  },
  {
   "cell_type": "code",
   "execution_count": 46,
   "metadata": {},
   "outputs": [],
   "source": [
    "def get_train_batch(df_majority, df_minority, start, end):\n",
    "    \n",
    "    df_train = pd.concat([df_majority[start:end], df_minority], axis=0)\n",
    "\n",
    "    print(df_train.shape  )\n",
    "    \n",
    "    X_train = df_train.drop('Churn', axis='columns')\n",
    "    y_train = df_train.Churn\n",
    "    \n",
    "    return X_train, y_train    "
   ]
  },
  {
   "cell_type": "code",
   "execution_count": 47,
   "metadata": {},
   "outputs": [
    {
     "name": "stdout",
     "output_type": "stream",
     "text": [
      "(2990, 24)\n"
     ]
    }
   ],
   "source": [
    "X_train1, y_train1 = get_train_batch(train_df_class0, train_df_class1, 0, 1495)\n"
   ]
  },
  {
   "cell_type": "code",
   "execution_count": 48,
   "metadata": {},
   "outputs": [
    {
     "data": {
      "text/plain": [
       "Churn\n",
       "0    1495\n",
       "1    1495\n",
       "Name: count, dtype: int64"
      ]
     },
     "execution_count": 48,
     "metadata": {},
     "output_type": "execute_result"
    }
   ],
   "source": [
    "y_train1.value_counts()"
   ]
  },
  {
   "cell_type": "code",
   "execution_count": 49,
   "metadata": {},
   "outputs": [
    {
     "name": "stdout",
     "output_type": "stream",
     "text": [
      "Epoch 1/10\n"
     ]
    },
    {
     "name": "stdout",
     "output_type": "stream",
     "text": [
      "94/94 [==============================] - 3s 5ms/step - loss: 0.5350 - accuracy: 0.7344\n",
      "Epoch 2/10\n",
      "94/94 [==============================] - 0s 5ms/step - loss: 0.4960 - accuracy: 0.7582\n",
      "Epoch 3/10\n",
      "94/94 [==============================] - 0s 5ms/step - loss: 0.4873 - accuracy: 0.7666\n",
      "Epoch 4/10\n",
      "94/94 [==============================] - 0s 4ms/step - loss: 0.4845 - accuracy: 0.7662\n",
      "Epoch 5/10\n",
      "94/94 [==============================] - 0s 3ms/step - loss: 0.4817 - accuracy: 0.7753\n",
      "Epoch 6/10\n",
      "94/94 [==============================] - 0s 4ms/step - loss: 0.4806 - accuracy: 0.7699\n",
      "Epoch 7/10\n",
      "94/94 [==============================] - 0s 4ms/step - loss: 0.4751 - accuracy: 0.7789\n",
      "Epoch 8/10\n",
      "94/94 [==============================] - 1s 6ms/step - loss: 0.4713 - accuracy: 0.7793\n",
      "Epoch 9/10\n",
      "94/94 [==============================] - 0s 4ms/step - loss: 0.4672 - accuracy: 0.7816\n",
      "Epoch 10/10\n",
      "94/94 [==============================] - 0s 4ms/step - loss: 0.4641 - accuracy: 0.7826\n",
      "44/44 [==============================] - 0s 4ms/step - loss: 0.5363 - accuracy: 0.7321\n",
      "evaluation result :  [0.5362676978111267, 0.7320539951324463]\n",
      "44/44 [==============================] - 0s 2ms/step\n"
     ]
    }
   ],
   "source": [
    "y_pred1 = ANN_Model(X_train1, y_train1, X_test, y_test, epoches = 10)"
   ]
  },
  {
   "cell_type": "markdown",
   "metadata": {},
   "source": [
    "2nd model"
   ]
  },
  {
   "cell_type": "code",
   "execution_count": 50,
   "metadata": {},
   "outputs": [
    {
     "name": "stdout",
     "output_type": "stream",
     "text": [
      "(2990, 24)\n"
     ]
    },
    {
     "data": {
      "text/plain": [
       "((2990, 23),\n",
       " (2990,),\n",
       " Churn\n",
       " 0    1495\n",
       " 1    1495\n",
       " Name: count, dtype: int64)"
      ]
     },
     "execution_count": 50,
     "metadata": {},
     "output_type": "execute_result"
    }
   ],
   "source": [
    "X_train2, y_train2 = get_train_batch(train_df_class0, train_df_class1, 1495, 2*1495)\n",
    "X_train2.shape , y_train2.shape , y_train2.value_counts()"
   ]
  },
  {
   "cell_type": "code",
   "execution_count": 51,
   "metadata": {},
   "outputs": [
    {
     "name": "stdout",
     "output_type": "stream",
     "text": [
      "Epoch 1/10\n",
      "94/94 [==============================] - 2s 4ms/step - loss: 0.5375 - accuracy: 0.7378\n",
      "Epoch 2/10\n",
      "94/94 [==============================] - 0s 3ms/step - loss: 0.4936 - accuracy: 0.7625\n",
      "Epoch 3/10\n",
      "94/94 [==============================] - 0s 4ms/step - loss: 0.4814 - accuracy: 0.7555\n",
      "Epoch 4/10\n",
      "94/94 [==============================] - 0s 4ms/step - loss: 0.4801 - accuracy: 0.7666\n",
      "Epoch 5/10\n",
      "94/94 [==============================] - 0s 4ms/step - loss: 0.4736 - accuracy: 0.7669\n",
      "Epoch 6/10\n",
      "94/94 [==============================] - 0s 4ms/step - loss: 0.4663 - accuracy: 0.7742\n",
      "Epoch 7/10\n",
      "94/94 [==============================] - 0s 4ms/step - loss: 0.4640 - accuracy: 0.7746\n",
      "Epoch 8/10\n",
      "94/94 [==============================] - 0s 4ms/step - loss: 0.4626 - accuracy: 0.7816\n",
      "Epoch 9/10\n",
      "94/94 [==============================] - 0s 4ms/step - loss: 0.4558 - accuracy: 0.7786\n",
      "Epoch 10/10\n",
      "94/94 [==============================] - 0s 4ms/step - loss: 0.4533 - accuracy: 0.7799\n",
      "44/44 [==============================] - 0s 4ms/step - loss: 0.5065 - accuracy: 0.7463\n",
      "evaluation result :  [0.506530225276947, 0.746268630027771]\n",
      "44/44 [==============================] - 0s 3ms/step\n"
     ]
    }
   ],
   "source": [
    "y_pred2 = ANN_Model(X_train2, y_train2, X_test, y_test, epoches = 10)"
   ]
  },
  {
   "cell_type": "markdown",
   "metadata": {},
   "source": [
    "3rd model"
   ]
  },
  {
   "cell_type": "code",
   "execution_count": 52,
   "metadata": {},
   "outputs": [
    {
     "name": "stdout",
     "output_type": "stream",
     "text": [
      "(2635, 24)\n"
     ]
    },
    {
     "data": {
      "text/plain": [
       "((2635, 23), (2635,))"
      ]
     },
     "execution_count": 52,
     "metadata": {},
     "output_type": "execute_result"
    }
   ],
   "source": [
    "X_train3, y_train3 = get_train_batch(train_df_class0, train_df_class1, 2*1495,4130)\n",
    "X_train3.shape , y_train3.shape "
   ]
  },
  {
   "cell_type": "code",
   "execution_count": 53,
   "metadata": {},
   "outputs": [
    {
     "data": {
      "text/plain": [
       "Churn\n",
       "1    1495\n",
       "0    1140\n",
       "Name: count, dtype: int64"
      ]
     },
     "execution_count": 53,
     "metadata": {},
     "output_type": "execute_result"
    }
   ],
   "source": [
    "y_train3.value_counts()"
   ]
  },
  {
   "cell_type": "code",
   "execution_count": 54,
   "metadata": {},
   "outputs": [
    {
     "name": "stdout",
     "output_type": "stream",
     "text": [
      "Epoch 1/10\n",
      "83/83 [==============================] - 2s 4ms/step - loss: 0.5272 - accuracy: 0.7355\n",
      "Epoch 2/10\n",
      "83/83 [==============================] - 0s 4ms/step - loss: 0.4943 - accuracy: 0.7662\n",
      "Epoch 3/10\n",
      "83/83 [==============================] - 0s 3ms/step - loss: 0.4790 - accuracy: 0.7750\n",
      "Epoch 4/10\n",
      "83/83 [==============================] - 0s 4ms/step - loss: 0.4738 - accuracy: 0.7696\n",
      "Epoch 5/10\n",
      "83/83 [==============================] - 0s 4ms/step - loss: 0.4681 - accuracy: 0.7814\n",
      "Epoch 6/10\n",
      "83/83 [==============================] - 0s 5ms/step - loss: 0.4641 - accuracy: 0.7871\n",
      "Epoch 7/10\n",
      "83/83 [==============================] - 0s 4ms/step - loss: 0.4630 - accuracy: 0.7818\n",
      "Epoch 8/10\n",
      "83/83 [==============================] - 0s 4ms/step - loss: 0.4627 - accuracy: 0.7886\n",
      "Epoch 9/10\n",
      "83/83 [==============================] - 0s 4ms/step - loss: 0.4623 - accuracy: 0.7841\n",
      "Epoch 10/10\n",
      "83/83 [==============================] - 0s 4ms/step - loss: 0.4482 - accuracy: 0.7894\n",
      "44/44 [==============================] - 0s 3ms/step - loss: 0.5844 - accuracy: 0.6972\n",
      "evaluation result :  [0.5844067335128784, 0.6972281336784363]\n",
      "44/44 [==============================] - 0s 3ms/step\n"
     ]
    }
   ],
   "source": [
    "y_pred3 = ANN_Model(X_train3, y_train3, X_test, y_test, epoches = 10)"
   ]
  },
  {
   "cell_type": "markdown",
   "metadata": {},
   "source": [
    "# Get final vote of y prediction from all 3 model "
   ]
  },
  {
   "cell_type": "code",
   "execution_count": 55,
   "metadata": {},
   "outputs": [],
   "source": [
    "# y_pred1 = y_pred1.T[0]\n",
    "# y_pred2 = y_pred2.T[0]\n",
    "# y_pred3 = y_pred3.T[0]"
   ]
  },
  {
   "cell_type": "code",
   "execution_count": 62,
   "metadata": {},
   "outputs": [],
   "source": [
    "y_majority_vote_pred = []\n",
    "\n",
    "total_count = len(y_pred1)\n",
    "\n",
    "for p1,p2,p3 in zip(y_pred1,y_pred2,y_pred3):\n",
    "    total_vote = np.sum(np.concatenate( (p1,p2,p3) ))\n",
    "    y_majority_vote_pred.append(  1 if total_vote >= 1 else 0 )\n"
   ]
  },
  {
   "cell_type": "code",
   "execution_count": 63,
   "metadata": {},
   "outputs": [
    {
     "name": "stdout",
     "output_type": "stream",
     "text": [
      "------------------------\n",
      "\n",
      "classification Report\n",
      "              precision    recall  f1-score   support\n",
      "\n",
      "           0       0.92      0.61      0.73      1033\n",
      "           1       0.44      0.86      0.58       374\n",
      "\n",
      "    accuracy                           0.68      1407\n",
      "   macro avg       0.68      0.73      0.66      1407\n",
      "weighted avg       0.79      0.68      0.69      1407\n",
      "\n",
      "------------------------\n"
     ]
    },
    {
     "data": {
      "image/png": "[encoded data removed]",
      "text/plain": [
       "<Figure size 500x300 with 2 Axes>"
      ]
     },
     "metadata": {},
     "output_type": "display_data"
    }
   ],
   "source": [
    "model_evaluation(y_test , y_majority_vote_pred)"
   ]
  }
 ],
 "metadata": {
  "kernelspec": {
   "display_name": "Python 3",
   "language": "python",
   "name": "python3"
  },
  "language_info": {
   "codemirror_mode": {
    "name": "ipython",
    "version": 3
   },
   "file_extension": ".py",
   "mimetype": "text/x-python",
   "name": "python",
   "nbconvert_exporter": "python",
   "pygments_lexer": "ipython3",
   "version": "3.11.4"
  },
  "orig_nbformat": 4
 },
 "nbformat": 4,
 "nbformat_minor": 2
}
